{
 "cells": [
  {
   "cell_type": "markdown",
   "metadata": {},
   "source": [
    "## Домашнее задание"
   ]
  },
  {
   "cell_type": "markdown",
   "metadata": {},
   "source": [
    "Основаная задача - **построить хорошую тематическую модель с интерпретируемыми топиками с помощью BigARTM**.\n",
    "\n",
    "1) сделайте нормализацию (если pymorphy2 работает долго используйте mystem или попробуйте установить быструю версию - `pip install pymorphy2[fast]`, можно использовать какой-то другой токенизатор) \n",
    "\n",
    "2) добавьте нграммы (в тетрадке есть закомменченая ячейка с Phrases, можно также попробовать другие способы построить нграммы); \n",
    "\n",
    "3) сохраните тексты .vw формате;\n",
    "\n",
    "4) сделайте хороший словарь (отфильтруйте слишком частотные и редкие слова, попробуйте удалить стоп-слова, сохраните словарь и посмотрите на него, вдруг что-то плохое сразу будет заметно - из словаря можно просто вручную или правилом удалять строки, при загрузке ничего не сломается); \n",
    "\n",
    "5) постройте несколько ARTM моделей (переберите количество тем, поменяйте значения tau у регуляризаторов), если получаются плохие темы, поработайте дополнительно над предобработкой и словарем; \n",
    "\n",
    "6) для самой хорошей модели в отдельной ячейке напечатайте 3 хороших (на ваш вкус) темы\n",
    "\n",
    "7) в другой ячейке нарисуйте график обучения этой модели \n",
    "\n",
    "8) в третьей ячейки опишите какие параметры (количество тем, регуляризаторы, их tau) вы использовали и как обучали (например, после скольки проходов добавили регуляризатор разрежнивания тем (Phi), добавляли ли разреженность документам (Theta) и когда, как повышали значения, сколько итерации модель продожала улучшаться (снижалась перплексия, росли другие метрики);\n",
    "\n",
    "Сохраните тетрадку с экспериментами и положите её на гитхаб, ссылку на неё укажите в форме.\n",
    "\n",
    "**Оцениваться будут главным образом пункты 6, 7 и 8. (3, 1, 4 баллов соответственно). Чтобы заработать остальные 2 балла, нужно хотя бы немного изменить мой код на промежуточных этапах (добавить что-то, указать другие параметры и т.д). **"
   ]
  },
  {
   "cell_type": "code",
   "execution_count": 1,
   "metadata": {},
   "outputs": [
    {
     "name": "stderr",
     "output_type": "stream",
     "text": [
      "C:\\Users\\PC\\Anaconda3\\lib\\site-packages\\gensim\\utils.py:1212: UserWarning: detected Windows; aliasing chunkize to chunkize_serial\n",
      "  warnings.warn(\"detected Windows; aliasing chunkize to chunkize_serial\")\n",
      "C:\\Users\\PC\\Anaconda3\\lib\\site-packages\\scipy\\sparse\\sparsetools.py:21: DeprecationWarning: `scipy.sparse.sparsetools` is deprecated!\n",
      "scipy.sparse.sparsetools is a private module for scipy.sparse, and should not be used.\n",
      "  _deprecated()\n"
     ]
    }
   ],
   "source": [
    "import artm\n",
    "%matplotlib inline\n",
    "import glob\n",
    "import os, re\n",
    "import matplotlib.pyplot as plt\n",
    "from collections import defaultdict, Counter\n",
    "from nltk.corpus import stopwords\n",
    "import numpy as np\n",
    "import string\n",
    "import gensim\n",
    "from nltk.tokenize import word_tokenize\n",
    "\n",
    "from mystem import MyStem"
   ]
  },
  {
   "cell_type": "code",
   "execution_count": 2,
   "metadata": {},
   "outputs": [],
   "source": [
    "_mystem = MyStem()"
   ]
  },
  {
   "cell_type": "markdown",
   "metadata": {},
   "source": [
    "## Возьмем теже данные"
   ]
  },
  {
   "cell_type": "code",
   "execution_count": 3,
   "metadata": {},
   "outputs": [],
   "source": [
    "def remove_tags(text):\n",
    "    return re.sub(r'<[^>]+>|gt', '', text)"
   ]
  },
  {
   "cell_type": "code",
   "execution_count": 35,
   "metadata": {},
   "outputs": [],
   "source": [
    "data_raw = open('habr_texts.txt', encoding='utf-8').read().splitlines()"
   ]
  },
  {
   "cell_type": "code",
   "execution_count": 36,
   "metadata": {},
   "outputs": [],
   "source": [
    "data_raw = [remove_tags(doc) for doc in data_raw]"
   ]
  },
  {
   "cell_type": "code",
   "execution_count": 37,
   "metadata": {},
   "outputs": [
    {
     "name": "stdout",
     "output_type": "stream",
     "text": [
      "Wall time: 2min 5s\n"
     ]
    }
   ],
   "source": [
    "%%time\n",
    "data_lem = _mystem.run(data_raw, flags='-idln', remove_stopwords=True)"
   ]
  },
  {
   "cell_type": "code",
   "execution_count": 40,
   "metadata": {},
   "outputs": [],
   "source": [
    "data_norm = [\n",
    "    re.sub('[a-zA-Z]', '', doc).split() for doc in data_lem\n",
    "]"
   ]
  },
  {
   "cell_type": "markdown",
   "metadata": {},
   "source": [
    "Сразу добавим словосочетаний (стоп-слова уже удалены ранее)"
   ]
  },
  {
   "cell_type": "code",
   "execution_count": 42,
   "metadata": {},
   "outputs": [],
   "source": [
    "ph = gensim.models.Phrases(data_norm, scoring='npmi', threshold=0.3)\n",
    "p = gensim.models.phrases.Phraser(ph)\n",
    "data_norm2 = p[data_norm]"
   ]
  },
  {
   "cell_type": "markdown",
   "metadata": {},
   "source": [
    "Для BigARTM требуется специальный формат данных. Их несколько, но мы возьмем vowpal wabbit.  \n",
    "На каждой строчке файла находится одельный текст, записывается такст вот таким образом:  \n",
    "```doc_name |@class_id word_1:1 word_2:3```  \n",
    "\n",
    "|@class_id - задает модальность, но когда она одна её можно не указывать.\n",
    "\n",
    "word_2:3 - слово и его частота (обратите внимание, что : - специальный символ и в словах его быть не может"
   ]
  },
  {
   "cell_type": "code",
   "execution_count": 44,
   "metadata": {},
   "outputs": [],
   "source": [
    "f = open('data.vw', 'w', encoding='utf-8')\n",
    "\n",
    "for i, text in enumerate(data_norm2):\n",
    "    c = Counter(text)\n",
    "    doc = 'doc_'+ str(i) + ' '\n",
    "    vw_text = ' '.join([x.replace(':', '')+':'+str(c[x]) for x in c])\n",
    "    \n",
    "    f.write(doc + vw_text  + '\\n')\n",
    "\n",
    "f.close()"
   ]
  },
  {
   "cell_type": "markdown",
   "metadata": {},
   "source": [
    "Для оценки будем использовать такую функцию (из туториалов от создателей библиотеки)"
   ]
  },
  {
   "cell_type": "code",
   "execution_count": 14,
   "metadata": {},
   "outputs": [],
   "source": [
    "def print_measures(model_artm):\n",
    "    print('Sparsity Phi: {0:.3f} ARTM)'.format(\n",
    "        model_artm.score_tracker['SparsityPhiScore'].last_value)\n",
    ")\n",
    "    print('Sparsity Theta: {0:.3f} (ARTM)'.format(\n",
    "        model_artm.score_tracker['SparsityThetaScore'].last_value))\n",
    "\n",
    "    print('Kernel contrast: {0:.3f} (ARTM)'.format(\n",
    "        model_artm.score_tracker['TopicKernelScore'].last_average_contrast))\n",
    "\n",
    "    print('Kernel purity: {0:.3f} (ARTM)'.format(\n",
    "        model_artm.score_tracker['TopicKernelScore'].last_average_purity))\n",
    "\n",
    "    print('Perplexity: {0:.3f} (ARTM)'.format(\n",
    "        model_artm.score_tracker['PerplexityScore'].last_value)\n",
    ")\n",
    "    plt.plot(range(model_artm.num_phi_updates), model_artm.score_tracker['PerplexityScore'].value, 'r--', linewidth=2)\n",
    "    plt.xlabel('Iterations count')\n",
    "    plt.ylabel(' ARTM perp. (red)')\n",
    "    plt.grid(True)\n",
    "    plt.show()\n",
    "    "
   ]
  },
  {
   "cell_type": "markdown",
   "metadata": {},
   "source": [
    "BigARTM работает не с целым файлом, а с кусочками. Поэтому разбиваем наш .vw файл специальным классом в artm."
   ]
  },
  {
   "cell_type": "code",
   "execution_count": 45,
   "metadata": {},
   "outputs": [],
   "source": [
    "batch_vectorizer = artm.BatchVectorizer(data_path='data.vw',  # название файла\n",
    "                                        data_format='vowpal_wabbit', # формат файла, у нас vw\n",
    "                                        target_folder='batches', # название папки в которую положаться батчи\n",
    "                                        batch_size=1000) # размер батча, подбирайте под свою память"
   ]
  },
  {
   "cell_type": "markdown",
   "metadata": {},
   "source": [
    "Уже созданные батчи можно заново загружать"
   ]
  },
  {
   "cell_type": "code",
   "execution_count": null,
   "metadata": {},
   "outputs": [],
   "source": [
    "batch_vectorizer = artm.BatchVectorizer(data_path='batches', # название папки с батчами\n",
    "                                        data_format='batches') # указываем формат - батчи"
   ]
  },
  {
   "cell_type": "code",
   "execution_count": 46,
   "metadata": {},
   "outputs": [],
   "source": [
    "# инициализируем словарь, чтобы сделать модель\n",
    "dictionary = artm.Dictionary()"
   ]
  },
  {
   "cell_type": "markdown",
   "metadata": {},
   "source": [
    "Собираем словарь по батчам"
   ]
  },
  {
   "cell_type": "code",
   "execution_count": 47,
   "metadata": {},
   "outputs": [],
   "source": [
    "dictionary.gather(data_path='batches')\n",
    "dictionary.filter(class_id='@default_class',\n",
    "                  min_df=10, max_df=2000)"
   ]
  },
  {
   "cell_type": "markdown",
   "metadata": {},
   "source": [
    "Его можно сохранить, чтобы не создавать снова или чтобы посмотреть и подредактировать."
   ]
  },
  {
   "cell_type": "code",
   "execution_count": 48,
   "metadata": {},
   "outputs": [],
   "source": [
    "dictionary.save_text('dict.txt')\n",
    "# dictionary = artm.Dictionary()\n",
    "# dictionary.load_text('dict.txt')"
   ]
  },
  {
   "cell_type": "markdown",
   "metadata": {},
   "source": [
    "Создаем модель и сразу включаем два регуляризатора (Декореляции и Сглаживания)"
   ]
  },
  {
   "cell_type": "markdown",
   "metadata": {},
   "source": [
    "`artm.DecorrelatorPhiRegularizer` - регуляризатор декорреляции тем, делает темы менее похожими друг на друга (рекомендуется включать его сразу на всех темах с положительным значением tau и не менять его в процессе обучения)  \n",
    "\n",
    "`artm.SmoothSparsePhiRegularizer` - регуляризатор сглаживания/разреженивания Phi (тем) - сглаживает или расреживает распределение слов в темах (отрицательный tau - разреживает, положительный - сглаживает), рекомендуется сразу включать сглаживание на всех темах и не менять его в процессе обучения;\n",
    "\n",
    "Количество тем нужно подбирать, но 200 часто работает хорошо. Снижение количества тем и уменьшения словаря ведут к уменьшению времени обучения модели (а увеличение, наоборот). "
   ]
  },
  {
   "cell_type": "code",
   "execution_count": 130,
   "metadata": {},
   "outputs": [],
   "source": [
    "def _artm(\n",
    "    batch_vectorizer,\n",
    "    dictionary,\n",
    "    n_topics=100,\n",
    "    n_epochs=20,\n",
    "    n_doc_passes=10,\n",
    "    decorr_tau=0.25,\n",
    "    smooth_tau=0.15,\n",
    "    sparse_phi_tau=None,\n",
    "    phi_tau_coef=0.5,\n",
    "    sparse_theta_tau=None,\n",
    "    theta_tau_coef=0.5\n",
    "):\n",
    "    \n",
    "    model_artm = artm.ARTM(topic_names=['topic_{}'.format(i+1) for i in range(n_topics)],\n",
    "                       \n",
    "                       regularizers=[\n",
    "                           artm.DecorrelatorPhiRegularizer(\n",
    "                                            name='Decorr', tau=decorr_tau, \n",
    "                                            class_ids=['@default_class'],\n",
    "                                            topic_names=['topic_{}'.format(i+1) for i in range(n_topics)]),\n",
    "                           \n",
    "                           artm.SmoothSparsePhiRegularizer(\n",
    "                                            name='SmoothPhi_1', \n",
    "                                            class_ids=['@default_class'],\n",
    "                                            tau=smooth_tau, \n",
    "                                            topic_names=['topic_{}'.format(i+1) for i in range(n_topics)])\n",
    "                                    ]\n",
    "                        )\n",
    "    \n",
    "    if sparse_phi_tau is not None:\n",
    "        model_artm.regularizers.add(artm.SmoothSparsePhiRegularizer(name='SparsePhi', tau=sparse_phi_tau, \n",
    "                                                            topic_names=['topic_{}'.format(i+1) for i in range(n_topics)],\n",
    "                                                            )\n",
    "                                   )\n",
    "        phi_tau = model_artm.regularizers['SparsePhi'].tau\n",
    "        \n",
    "    if sparse_theta_tau is not None:\n",
    "        model_artm.regularizers.add(artm.SmoothSparseThetaRegularizer(name='SparseTheta', tau=sparse_theta_tau, \n",
    "                                                              topic_names=['topic_{}'.format(i+1) for i in range(n_topics)]\n",
    "                                                                     )\n",
    "                                   )\n",
    "        theta_tau = model_artm.regularizers['SparseTheta'].tau\n",
    "    \n",
    "    model_artm.num_document_passes = n_doc_passes\n",
    "    model_artm.initialize(dictionary=dictionary)\n",
    "    \n",
    "    model_artm.scores.add(artm.PerplexityScore(name='PerplexityScore', dictionary=dictionary))\n",
    "    model_artm.scores.add(artm.SparsityPhiScore(name='SparsityPhiScore'))\n",
    "    model_artm.scores.add(artm.SparsityThetaScore(name='SparsityThetaScore')) \n",
    "    model_artm.scores.add(artm.TopicKernelScore(name='TopicKernelScore', probability_mass_threshold=0.1)) \n",
    "    model_artm.scores.add(artm.TopTokensScore(class_id='@default_class', name='TopTokensScore_1', num_tokens=10)) \n",
    "    \n",
    "    for _ in range(n_epochs):\n",
    "        model_artm.fit_offline(batch_vectorizer=batch_vectorizer,\n",
    "                               num_collection_passes=1\n",
    "        )\n",
    "        \n",
    "        if sparse_phi_tau is not None:\n",
    "            model_artm.regularizers['SparsePhi'].tau += (phi_tau + (phi_tau * phi_tau_coef))\n",
    "            \n",
    "        if sparse_theta_tau is not None:\n",
    "            model_artm.regularizers['SparseTheta'].tau += (theta_tau + (theta_tau * theta_tau_coef))\n",
    "            \n",
    "        \n",
    "    return model_artm\n",
    "\n",
    "\n",
    "def print_topics(model, n=10):\n",
    "    for topic_name in model.topic_names[:n]:\n",
    "        try:\n",
    "            words= [x for x in model.score_tracker['TopTokensScore_1'].last_tokens[topic_name]]\n",
    "            print('Topic: %s\\n%s\\n' % (topic_name, words))\n",
    "\n",
    "        except KeyError: # можно перекрутить параметры и некоторые темы окажутся пустыми\n",
    "            continue"
   ]
  },
  {
   "cell_type": "markdown",
   "metadata": {},
   "source": [
    "Построим базовую модель без sparse-регуляризаторов на 100 тем"
   ]
  },
  {
   "cell_type": "code",
   "execution_count": 70,
   "metadata": {},
   "outputs": [],
   "source": [
    "%%time\n",
    "model_artm = _artm(\n",
    "    batch_vectorizer=batch_vectorizer,\n",
    "    dictionary=dictionary\n",
    ")"
   ]
  },
  {
   "cell_type": "markdown",
   "metadata": {},
   "source": [
    "Очень похоже, что за проделанные 20 эпох модель сошлась.  \n",
    "Перплексия близка к неплохой."
   ]
  },
  {
   "cell_type": "code",
   "execution_count": 77,
   "metadata": {},
   "outputs": [
    {
     "name": "stdout",
     "output_type": "stream",
     "text": [
      "Sparsity Phi: 0.000 ARTM)\n",
      "Sparsity Theta: 0.001 (ARTM)\n",
      "Kernel contrast: 0.211 (ARTM)\n",
      "Kernel purity: 0.234 (ARTM)\n",
      "Perplexity: 1239.409 (ARTM)\n"
     ]
    },
    {
     "data": {
      "image/png": "[encoded data removed]",
      "text/plain": [
       "<Figure size 432x288 with 1 Axes>"
      ]
     },
     "metadata": {
      "needs_background": "light"
     },
     "output_type": "display_data"
    }
   ],
   "source": [
    "print_measures(model_artm)"
   ]
  },
  {
   "cell_type": "markdown",
   "metadata": {},
   "source": [
    "Посмотрим на 20 тем"
   ]
  },
  {
   "cell_type": "code",
   "execution_count": 85,
   "metadata": {},
   "outputs": [
    {
     "name": "stdout",
     "output_type": "stream",
     "text": [
      "Topic: topic_1\n",
      "['данные', 'запись', 'диск', 'данный', 'информация', 'хранение', 'хранилище', 'хранить', 'кеш', 'храниться']\n",
      "\n",
      "Topic: topic_2\n",
      "['атака', 'уязвимость', 'безопасность', 'защита', 'злоумышленник', 'компания', 'проблема', 'устройство', 'угроза', 'обнаруживать']\n",
      "\n",
      "Topic: topic_3\n",
      "['человек', 'жизнь', 'ваш', 'говорить', 'помогать', 'дело', 'часто', 'хороший', 'ребенок', 'исследование']\n",
      "\n",
      "Topic: topic_4\n",
      "['страна', 'город', 'китай', 'россия', 'регион', 'сша', 'государство', 'правительство', 'население', 'гражданин']\n",
      "\n",
      "Topic: topic_5\n",
      "['компьютер', 'битный', 'ассемблер', 'бит', 'инструкция', 'процессор', 'микросхема', 'архитектура', 'результат', 'калькулятор']\n",
      "\n",
      "Topic: topic_6\n",
      "['робот', 'дрон', 'полет', 'человек', 'мотор', 'аппарат', 'скорость', 'машина', 'дронов', 'крыло']\n",
      "\n",
      "Topic: topic_7\n",
      "['пост', 'пользователь', 'комментарий', 'ваш', 'иконка', 'текст', 'добавлять', 'роль', 'шрифт', 'навигация']\n",
      "\n",
      "Topic: topic_8\n",
      "['запрос', 'сервер', 'база', 'пользователь', 'процесс', 'ошибка', 'ответ', 'база_данные', 'проблема', 'восстановление']\n",
      "\n",
      "Topic: topic_9\n",
      "['участник', 'доклад', 'конференция', 'рассказывать', 'мероприятие', 'тема', 'выступление', 'разработчик', 'презентация', 'спикер']\n",
      "\n",
      "Topic: topic_10\n",
      "['книга', 'компьютер', 'глава', 'идея', 'автор', 'мир', 'машина', 'рассказ', 'история', 'написать']\n",
      "\n",
      "Topic: topic_11\n",
      "['сумма', 'доход', 'деньги', 'рубль', 'бизнес', 'инвестор', 'компания', 'налог', 'счет', 'договор']\n",
      "\n",
      "Topic: topic_12\n",
      "['приложение', 'пользователь', 'добавлять', 'устройство', 'уведомление', 'создание', 'интерфейс', 'экран', 'доступный', 'список']\n",
      "\n",
      "Topic: topic_13\n",
      "['сайт', 'страница', 'ресурс', 'поиск', 'ссылка', 'статья', 'контент', 'блокировка', 'пользователь', 'информация']\n",
      "\n",
      "Topic: topic_14\n",
      "['товар', 'цена', 'магазин', 'скидка', 'покупка', 'заказ', 'покупатель', 'продавец', 'день', 'акция']\n",
      "\n",
      "Topic: topic_15\n",
      "['объект', 'класс', 'метод', 'тип', 'реализация', 'свойство', 'интерфейс', 'пример', 'реализовать', 'использование']\n",
      "\n",
      "Topic: topic_16\n",
      "['цифра', 'глаз', 'зрение', 'шарик', 'вероятность', 'человек', 'число', 'пират', 'животное', 'калькулятор']\n",
      "\n",
      "Topic: topic_17\n",
      "['проект', 'разработка', 'разработчик', 'ваш', 'месяц', 'готовый', 'момент', 'помогать', 'команда', 'статья']\n",
      "\n",
      "Topic: topic_18\n",
      "['продукт', 'инструмент', 'разработка', 'разработчик', 'решение', 'проблема', 'процесс', 'подход', 'идея', 'разрабатывать']\n",
      "\n",
      "Topic: topic_19\n",
      "['пользователь', 'мобильный', 'контент', 'виртуальный_реальность', 'реклама', 'компания', 'браузер', 'аудитория', 'мессенджер', 'технология']\n",
      "\n",
      "Topic: topic_20\n",
      "['модель', 'ноутбук', 'регистратор', 'устройство', 'процессор', 'телефон', 'видеокарта', 'цена', 'железо', 'производитель']\n",
      "\n"
     ]
    }
   ],
   "source": [
    "print_topics(model_artm, 20)"
   ]
  },
  {
   "cell_type": "markdown",
   "metadata": {},
   "source": [
    "В целом получилось очень даже достойно.\n",
    "Темы осмысленны, полноценны, практически лишены шума, разнообразны и преимущественно гомогенны.\n",
    "Уже базовая модель, в моем видении, работает значительно лучше `gensim.LDA` и стремится по качеству к `NMF`.  \n",
    "Интересны, например, темы, которых точно не было в `gensim.LDA`: географическая тема 4, связанная с деньгами тема 11 или связанная с дронами тема 6.  \n",
    "Но есть и несколько сумбурные и малоосмысленные темы вроде 3 или 16. "
   ]
  },
  {
   "cell_type": "markdown",
   "metadata": {},
   "source": [
    "Добавим теперь sparse-регуляризатор на разреженность слов в темах и повторим эксперимент"
   ]
  },
  {
   "cell_type": "code",
   "execution_count": 131,
   "metadata": {},
   "outputs": [
    {
     "name": "stdout",
     "output_type": "stream",
     "text": [
      "Wall time: 41.6 s\n"
     ]
    }
   ],
   "source": [
    "%%time\n",
    "model_artm2 = _artm(\n",
    "    batch_vectorizer=batch_vectorizer,\n",
    "    dictionary=dictionary,\n",
    "    n_epochs=30,\n",
    "    sparse_phi_tau=-0.2\n",
    ")"
   ]
  },
  {
   "cell_type": "markdown",
   "metadata": {},
   "source": [
    "Качество примерно аналогичное, только сошлась модель раньше"
   ]
  },
  {
   "cell_type": "code",
   "execution_count": 132,
   "metadata": {},
   "outputs": [
    {
     "name": "stdout",
     "output_type": "stream",
     "text": [
      "Sparsity Phi: 0.984 ARTM)\n",
      "Sparsity Theta: 0.032 (ARTM)\n",
      "Kernel contrast: 0.757 (ARTM)\n",
      "Kernel purity: 0.858 (ARTM)\n",
      "Perplexity: 1398.631 (ARTM)\n"
     ]
    },
    {
     "data": {
      "image/png": "[encoded data removed]",
      "text/plain": [
       "<Figure size 432x288 with 1 Axes>"
      ]
     },
     "metadata": {
      "needs_background": "light"
     },
     "output_type": "display_data"
    }
   ],
   "source": [
    "print_measures(model_artm2)"
   ]
  },
  {
   "cell_type": "code",
   "execution_count": 133,
   "metadata": {},
   "outputs": [
    {
     "name": "stdout",
     "output_type": "stream",
     "text": [
      "Topic: topic_1\n",
      "['данные', 'запись', 'диск', 'хранить', 'хранение', 'информация', 'данный', 'хранилище', 'храниться', 'сохранять']\n",
      "\n",
      "Topic: topic_2\n",
      "['безопасность', 'атака', 'письмо', 'защита', 'уязвимость', 'злоумышленник', 'угроза', 'рассылка', 'хакер', 'шифрование']\n",
      "\n",
      "Topic: topic_3\n",
      "['человек', 'жизнь', 'дело', 'хороший', 'помогать', 'находить', 'день', 'мысль', 'думать', 'сказать']\n",
      "\n",
      "Topic: topic_4\n",
      "['связь', 'номер', 'оператор', 'страна', 'регион', 'звонок', 'вызов', 'принимать', 'глобальный', 'оператор_связь']\n",
      "\n",
      "Topic: topic_5\n",
      "['инструкция', 'байт', 'бит', 'регистр', 'адрес', 'битный', 'компилятор', 'результат', 'ассемблер', 'кристалл']\n",
      "\n",
      "Topic: topic_6\n",
      "['устройство', 'камера', 'датчик', 'аккумулятор', 'прибор', 'корпус', 'аппарат', 'управление', 'батарея', 'производитель']\n",
      "\n",
      "Topic: topic_7\n",
      "['ваш', 'комментарий', 'пост', 'пользователь', 'хотеть', 'стандарт', 'давать', 'рекомендовать', 'предлагать', 'любой']\n",
      "\n",
      "Topic: topic_8\n",
      "['процесс', 'база', 'выполнять', 'случай', 'выполнение', 'происходить', 'сценарий', 'секунда', 'момент', 'статус']\n",
      "\n",
      "Topic: topic_9\n",
      "['участник', 'рассказывать', 'тема', 'конференция', 'доклад', 'выступать', 'презентация', 'мероприятие', 'интересный', 'проходить']\n",
      "\n",
      "Topic: topic_10\n",
      "['статья', 'автор', 'компьютер', 'книга', 'писать', 'написать', 'читать', 'описывать', 'прочитывать', 'название']\n",
      "\n",
      "Topic: topic_11\n",
      "['деньги', 'сумма', 'доход', 'счет', 'бизнес', 'месяц', 'компания', 'инвестор', 'закон', 'платить']\n",
      "\n",
      "Topic: topic_12\n",
      "['интерфейс', 'кнопка', 'добавлять', 'заголовок', 'экран', 'окно', 'показывать', 'отображать', 'пользователь', 'отображение']\n",
      "\n",
      "Topic: topic_13\n",
      "['сайт', 'страница', 'контент', 'публикация', 'ресурс', 'реклама', 'ссылка', 'статья', 'браузер', 'блокировка']\n",
      "\n",
      "Topic: topic_14\n",
      "['товар', 'цена', 'день', 'магазин', 'покупка', 'заказ', 'месяц', 'скидка', 'покупатель', 'купить']\n",
      "\n",
      "Topic: topic_15\n",
      "['объект', 'метод', 'класс', 'компонент', 'реализация', 'тип', 'свойство', 'реализовать', 'создание', 'интерфейс']\n",
      "\n",
      "Topic: topic_16\n",
      "['результат', 'количество', 'оценка', 'цифра', 'число', 'средний', 'показывать', 'показатель', 'общий', 'мало']\n",
      "\n",
      "Topic: topic_17\n",
      "['место', 'город', 'проходить', 'м', 'второй', 'конец', 'план', 'день', 'успевать', 'идти']\n",
      "\n",
      "Topic: topic_18\n",
      "['инструмент', 'продукт', 'решение', 'разработка', 'подход', 'процесс', 'разрабатывать', 'помогать', 'взаимодействие', 'сервис']\n",
      "\n",
      "Topic: topic_19\n",
      "['интернет', 'пользователь', 'информация', 'число', 'партнер', 'представитель', 'заявлять', 'компания', 'официальный', 'мобильный']\n",
      "\n",
      "Topic: topic_20\n",
      "['телефон', 'подключение', 'железо', 'производитель', 'компьютер', 'порт', 'кабель', 'цена', 'процессор', 'стандарт']\n",
      "\n"
     ]
    }
   ],
   "source": [
    "print_topics(model_artm2, 20)"
   ]
  },
  {
   "cell_type": "markdown",
   "metadata": {},
   "source": [
    "Особенно темы не поменялись, но малые улучшения все же видны: например, упразднилась нелепая тема 16 и на ее место пришла вполне хорошая математическая тема.  "
   ]
  },
  {
   "cell_type": "markdown",
   "metadata": {},
   "source": [
    "Посмотрим теперь отдельно на регуляризатор на разреженность тем"
   ]
  },
  {
   "cell_type": "code",
   "execution_count": 137,
   "metadata": {},
   "outputs": [
    {
     "name": "stdout",
     "output_type": "stream",
     "text": [
      "Wall time: 20.5 s\n"
     ]
    }
   ],
   "source": [
    "%%time\n",
    "model_artm3 = _artm(\n",
    "    batch_vectorizer=batch_vectorizer,\n",
    "    dictionary=dictionary,\n",
    "    n_epochs=15,\n",
    "    sparse_theta_tau=-0.2,\n",
    "    theta_tau_coef=0.75\n",
    ")"
   ]
  },
  {
   "cell_type": "code",
   "execution_count": 138,
   "metadata": {},
   "outputs": [
    {
     "name": "stdout",
     "output_type": "stream",
     "text": [
      "Sparsity Phi: 0.000 ARTM)\n",
      "Sparsity Theta: 0.949 (ARTM)\n",
      "Kernel contrast: 0.187 (ARTM)\n",
      "Kernel purity: 0.129 (ARTM)\n",
      "Perplexity: 1270.057 (ARTM)\n"
     ]
    },
    {
     "data": {
      "image/png": "[encoded data removed]",
      "text/plain": [
       "<Figure size 432x288 with 1 Axes>"
      ]
     },
     "metadata": {
      "needs_background": "light"
     },
     "output_type": "display_data"
    }
   ],
   "source": [
    "print_measures(model_artm3)"
   ]
  },
  {
   "cell_type": "code",
   "execution_count": 139,
   "metadata": {},
   "outputs": [
    {
     "name": "stdout",
     "output_type": "stream",
     "text": [
      "Topic: topic_1\n",
      "['данные', 'запись', 'диск', 'данный', 'хранилище', 'файл', 'хранение', 'информация', 'кеш', 'состояние']\n",
      "\n",
      "Topic: topic_2\n",
      "['атака', 'компания', 'уязвимость', 'устройство', 'проблема', 'данные', 'пользователь', 'биткоин', 'злоумышленник', 'защита']\n",
      "\n",
      "Topic: topic_3\n",
      "['человек', 'жизнь', 'ваш', 'говорить', 'книга', 'дело', 'понимать', 'знать', 'помогать', 'хороший']\n",
      "\n",
      "Topic: topic_4\n",
      "['город', 'страна', 'результат', 'государство', 'россия', 'проект', 'человек', 'сша', 'интернет', 'регион']\n",
      "\n",
      "Topic: topic_5\n",
      "['процессор', 'программа', 'чип', 'компания', 'компьютер', 'микросхема', 'битный', 'ассемблер', 'инструкция', 'архитектура']\n",
      "\n",
      "Topic: topic_6\n",
      "['робот', 'дрон', 'человек', 'машина', 'полет', 'мотор', 'скорость', 'аппарат', 'очень', 'видео']\n",
      "\n",
      "Topic: topic_7\n",
      "['пользователь', 'пост', 'иконка', 'добавлять', 'текст', 'роль', 'ваш', 'интерфейс', 'шрифт', 'контроллер']\n",
      "\n",
      "Topic: topic_8\n",
      "['запрос', 'сервер', 'пользователь', 'данные', 'процесс', 'ответ', 'ошибка', 'проблема', 'сервис', 'очередь']\n",
      "\n",
      "Topic: topic_9\n",
      "['доклад', 'конференция', 'участник', 'рассказывать', 'выступление', 'разработчик', 'проект', 'мероприятие', 'спикер', 'тема']\n",
      "\n",
      "Topic: topic_10\n",
      "['компьютер', 'книга', 'программа', 'человек', 'машина', 'идея', 'написать', 'говорить', 'язык', 'глава']\n",
      "\n",
      "Topic: topic_11\n",
      "['компания', 'деньги', 'доход', 'сумма', 'бизнес', 'рубль', 'инвестор', 'налог', 'счет', 'ипать']\n",
      "\n",
      "Topic: topic_12\n",
      "['приложение', 'пользователь', 'устройство', 'добавлять', 'список', 'сервис', 'создание', 'экран', 'кнопка', 'данные']\n",
      "\n",
      "Topic: topic_13\n",
      "['сайт', 'пользователь', 'страница', 'ресурс', 'контент', 'реклама', 'статья', 'трафик', 'поиск', 'проект']\n",
      "\n",
      "Topic: topic_14\n",
      "['товар', 'скидка', 'магазин', 'цена', 'заказ', 'покупатель', 'продавец', 'день', 'покупка', 'акция']\n",
      "\n",
      "Topic: topic_15\n",
      "['класс', 'объект', 'метод', 'тип', 'компонент', 'реализация', 'свойство', 'код', 'данные', 'модель']\n",
      "\n",
      "Topic: topic_16\n",
      "['глаз', 'число', 'человек', 'слово', 'цифра', 'зрение', 'случай', 'вероятность', 'результат', 'количество']\n",
      "\n",
      "Topic: topic_17\n",
      "['проект', 'разработка', 'ваш', 'человек', 'команда', 'день', 'разработчик', 'месяц', 'деньги', 'код']\n",
      "\n",
      "Topic: topic_18\n",
      "['команда', 'продукт', 'разработка', 'разработчик', 'проект', 'инструмент', 'решение', 'проблема', 'человек', 'приложение']\n",
      "\n",
      "Topic: topic_19\n",
      "['компания', 'пользователь', 'информация', 'данные', 'сервис', 'браузер', 'являться', 'интернет', 'закон', 'китай']\n",
      "\n",
      "Topic: topic_20\n",
      "['модель', 'регистратор', 'устройство', 'процессор', 'видеокарта', 'телефон', 'цена', 'производитель', 'память', 'железо']\n",
      "\n"
     ]
    }
   ],
   "source": [
    "print_topics(model_artm3, 20)"
   ]
  },
  {
   "cell_type": "markdown",
   "metadata": {},
   "source": [
    "Вновь практически никаких изменений не наблюдается, а наполнение тем очень похоже на случай без sparse-регуляризаторов."
   ]
  },
  {
   "cell_type": "markdown",
   "metadata": {},
   "source": [
    "Теперь попробуем оба разреживающих регуляризатора одновременно"
   ]
  },
  {
   "cell_type": "code",
   "execution_count": 140,
   "metadata": {},
   "outputs": [
    {
     "name": "stdout",
     "output_type": "stream",
     "text": [
      "Wall time: 43.3 s\n"
     ]
    }
   ],
   "source": [
    "%%time\n",
    "model_artm4 = _artm(\n",
    "    batch_vectorizer=batch_vectorizer,\n",
    "    dictionary=dictionary,\n",
    "    n_epochs=30,\n",
    "    sparse_phi_tau=-0.2,\n",
    "    sparse_theta_tau=-0.2,\n",
    "    theta_tau_coef=0.75\n",
    ")"
   ]
  },
  {
   "cell_type": "code",
   "execution_count": 142,
   "metadata": {},
   "outputs": [
    {
     "name": "stdout",
     "output_type": "stream",
     "text": [
      "Sparsity Phi: 0.982 ARTM)\n",
      "Sparsity Theta: 0.920 (ARTM)\n",
      "Kernel contrast: 0.551 (ARTM)\n",
      "Kernel purity: 0.620 (ARTM)\n",
      "Perplexity: 1458.162 (ARTM)\n"
     ]
    },
    {
     "data": {
      "image/png": "[encoded data removed]",
      "text/plain": [
       "<Figure size 432x288 with 1 Axes>"
      ]
     },
     "metadata": {
      "needs_background": "light"
     },
     "output_type": "display_data"
    }
   ],
   "source": [
    "print_measures(model_artm4)"
   ]
  },
  {
   "cell_type": "code",
   "execution_count": 144,
   "metadata": {},
   "outputs": [
    {
     "name": "stdout",
     "output_type": "stream",
     "text": [
      "Topic: topic_1\n",
      "['данные', 'диск', 'запись', 'кеш', 'файл', 'чтение', 'ключ', 'хранение', 'данный', 'хранилище']\n",
      "\n",
      "Topic: topic_2\n",
      "['атака', 'письмо', 'уязвимость', 'компания', 'злоумышленник', 'рассылка', 'атаковать', 'защита', 'подписчик', 'уязвимый']\n",
      "\n",
      "Topic: topic_3\n",
      "['человек', 'хороший', 'проблема', 'ваш', 'находить', 'давать', 'хотя', 'именно', 'результат', 'любой']\n",
      "\n",
      "Topic: topic_4\n",
      "['карта', 'номер', 'участник', 'оператор', 'звонок', 'вызов', 'банк', 'оплата', 'перевод', 'набор']\n",
      "\n",
      "Topic: topic_5\n",
      "['регистр', 'инструкция', 'процессор', 'архитектура', 'программа', 'байт', 'компилятор', 'ассемблер', 'битный', 'адрес']\n",
      "\n",
      "Topic: topic_6\n",
      "['устройство', 'датчик', 'камера', 'аккумулятор', 'использоваться', 'управление', 'прибор', 'аппарат', 'производитель', 'использование']\n",
      "\n",
      "Topic: topic_7\n",
      "['контроллер', 'добавлять', 'пользователь', 'модель', 'роль', 'пост', 'функция', 'шаблон', 'модуль', 'изменять']\n",
      "\n",
      "Topic: topic_8\n",
      "['сервер', 'запрос', 'пользователь', 'проблема', 'данные', 'ошибка', 'случай', 'процесс', 'сервис', 'база']\n",
      "\n",
      "Topic: topic_9\n",
      "['доклад', 'конференция', 'участник', 'рассказывать', 'тема', 'выступление', 'мероприятие', 'разработчик', 'спикер', 'проект']\n",
      "\n",
      "Topic: topic_10\n",
      "['книга', 'компьютер', 'язык', 'глава', 'математика', 'программа', 'программирование', 'машина', 'программист', 'написать']\n",
      "\n",
      "Topic: topic_11\n",
      "['компания', 'деньги', 'сумма', 'бизнес', 'месяц', 'доход', 'инвестор', 'россия', 'счет', 'рубль']\n",
      "\n",
      "Topic: topic_12\n",
      "['кнопка', 'приложение', 'элемент', 'страница', 'экран', 'состояние', 'пользователь', 'список', 'действие', 'интерфейс']\n",
      "\n",
      "Topic: topic_13\n",
      "['сайт', 'страница', 'пользователь', 'реклама', 'контент', 'ресурс', 'заголовок', 'ссылка', 'статья', 'публикация']\n",
      "\n",
      "Topic: topic_14\n",
      "['товар', 'скидка', 'магазин', 'цена', 'заказ', 'покупатель', 'покупка', 'день', 'продавец', 'распродажа']\n",
      "\n",
      "Topic: topic_15\n",
      "['объект', 'класс', 'метод', 'тип', 'реализация', 'данные', 'интерфейс', 'приложение', 'свойство', 'модель']\n",
      "\n",
      "Topic: topic_16\n",
      "['данные', 'значение', 'результат', 'число', 'оценка', 'количество', 'график', 'показатель', 'цифра', 'средний']\n",
      "\n",
      "Topic: topic_17\n",
      "['город', 'проект', 'здание', 'м', 'башня', 'небоскреб', 'строительство', 'ревивать', 'часть', 'этаж']\n",
      "\n",
      "Topic: topic_18\n",
      "['команда', 'спринт', 'прототип', 'микросервис', 'идея', 'разработка', 'продукт', 'пользовательский', 'член_команда', 'функция']\n",
      "\n",
      "Topic: topic_19\n",
      "['компания', 'информация', 'данные', 'китай', 'сервис', 'закон', 'пользователь', 'российский', 'интернет', 'дело']\n",
      "\n",
      "Topic: topic_20\n",
      "['сеть', 'устройство', 'процессор', 'канал', 'компьютер', 'настройка', 'порт', 'скорость', 'память', 'подключение']\n",
      "\n"
     ]
    }
   ],
   "source": [
    "print_topics(model_artm4, 20)"
   ]
  },
  {
   "cell_type": "markdown",
   "metadata": {},
   "source": [
    "Теперь видны некоторые изменения.  \n",
    "Так, появилась совершенно новая тема 4, связанная с банковскими операциями, и тема 17 о строительстве (правда, с небольшим шумом).  \n",
    "Дополнительно очень хорошо уточнилась тема 5 о CPU.  \n",
    "Среди 3 тем особенно хотелось бы выделить 5, 13 и 15, очень точно описывающие ту или иную область CS в целом."
   ]
  },
  {
   "cell_type": "code",
   "execution_count": null,
   "metadata": {},
   "outputs": [],
   "source": []
  },
  {
   "cell_type": "code",
   "execution_count": 59,
   "metadata": {},
   "outputs": [],
   "source": [
    "model_artm = artm.ARTM(topic_names=['topic_{}'.format(i) for i in range(200)],\n",
    "                       \n",
    "                       regularizers=[\n",
    "                           artm.DecorrelatorPhiRegularizer(\n",
    "                                            name='Decorr', tau=0.25, \n",
    "                                            class_ids=['@default_class'],\n",
    "                                            topic_names=['topic_{}'.format(i) for i in range(1, 200)]),\n",
    "                           \n",
    "                           artm.SmoothSparsePhiRegularizer(\n",
    "                                            name='SmoothPhi_1', \n",
    "                                            class_ids=['@default_class'],\n",
    "                                            tau=0.15, \n",
    "                                            topic_names=['topic_{}'.format(i) for i in range(0, 200)])\n",
    "                                    ]\n",
    "                        )\n",
    "\n",
    "# не забывайте менять количество топиков в регуляризаторах, они применяются только на тех темах, что заданы"
   ]
  },
  {
   "cell_type": "code",
   "execution_count": 60,
   "metadata": {},
   "outputs": [],
   "source": [
    "# инициализурем модель словарем\n",
    "model_artm.initialize(dictionary=dictionary, )"
   ]
  },
  {
   "cell_type": "code",
   "execution_count": 61,
   "metadata": {},
   "outputs": [],
   "source": [
    "# добавляем метрики\n",
    "model_artm.scores.add(artm.PerplexityScore(name='PerplexityScore',\n",
    "                                                    dictionary=dictionary))\n",
    "model_artm.scores.add(artm.SparsityPhiScore(name='SparsityPhiScore')) # разреженность слов в темах\n",
    "model_artm.scores.add(artm.SparsityThetaScore(name='SparsityThetaScore')) # разреженность тем в доках\n",
    "model_artm.scores.add(artm.TopicKernelScore(name='TopicKernelScore', probability_mass_threshold=0.1)) # когерентность по семантичесим ядрам\n",
    "model_artm.scores.add(artm.TopTokensScore(class_id='@default_class', name='TopTokensScore_1', num_tokens=10)) # топ-n-слов для каждой темы "
   ]
  },
  {
   "cell_type": "markdown",
   "metadata": {},
   "source": [
    "### Тренируем модель"
   ]
  },
  {
   "cell_type": "markdown",
   "metadata": {},
   "source": [
    "Пройдемся несколько раз по коллекции, чтобы модель немного сошлась (если доков сильно больше то может быть достаточно и 1 прохода). Для сильно больших коллекций есть fit_online, который обновляется в процессе прохода по коллекции, про него можно почитать в документации."
   ]
  },
  {
   "cell_type": "code",
   "execution_count": 64,
   "metadata": {},
   "outputs": [],
   "source": [
    "model_artm.num_document_passes = 10\n",
    "model_artm.fit_offline(batch_vectorizer=batch_vectorizer, num_collection_passes=20)"
   ]
  },
  {
   "cell_type": "code",
   "execution_count": 65,
   "metadata": {},
   "outputs": [
    {
     "name": "stdout",
     "output_type": "stream",
     "text": [
      "Sparsity Phi: 0.000 ARTM)\n",
      "Sparsity Theta: 0.001 (ARTM)\n",
      "Kernel contrast: 0.187 (ARTM)\n",
      "Kernel purity: 0.140 (ARTM)\n",
      "Perplexity: 1146.464 (ARTM)\n"
     ]
    },
    {
     "data": {
      "image/png": "[encoded data removed]",
      "text/plain": [
       "<Figure size 432x288 with 1 Axes>"
      ]
     },
     "metadata": {
      "needs_background": "light"
     },
     "output_type": "display_data"
    }
   ],
   "source": [
    "# посмотрим, что стало с моделью\n",
    "# если график сильно падал на последних итерациях, то можно прогнать обучение ещё несколько раз \n",
    "# (не добавляя другие регуляризаторы)\n",
    "print_measures(model_artm)"
   ]
  },
  {
   "cell_type": "markdown",
   "metadata": {},
   "source": [
    "Добавим регуляризаторы разреженности тем и документов.\n",
    "\n",
    "Их рекомендуется добавлять после того, как модель уже как-то сошлась. После добавления их рекомендуется постепенно уменьшать, чтобы усиливать разреживание. Их можно применять не ко всем темам, чтобы в каких-то темах собрались все стоп-слова.\n",
    "\n",
    "Можно добавлять их вместе или по отдельности."
   ]
  },
  {
   "cell_type": "code",
   "execution_count": null,
   "metadata": {},
   "outputs": [],
   "source": [
    "model_artm.regularizers.add(artm.SmoothSparsePhiRegularizer(name='SparsePhi', tau=-0.15, \n",
    "                                                            topic_names=['topic_{}'.format(i) for i in range(1, 200)],\n",
    "                                                            ))\n",
    "model_artm.regularizers.add(artm.SmoothSparseThetaRegularizer(name='SparseTheta', tau=-0.15, \n",
    "                                                              topic_names=['topic_{}'.format(i) for i in range(1, 200)]))"
   ]
  },
  {
   "cell_type": "code",
   "execution_count": null,
   "metadata": {},
   "outputs": [],
   "source": [
    "model_artm.fit_offline(batch_vectorizer=batch_vectorizer,num_collection_passes=1)"
   ]
  },
  {
   "cell_type": "code",
   "execution_count": null,
   "metadata": {},
   "outputs": [],
   "source": [
    "# будем постепенно увеличивать значения этих регуляризаторов\n",
    "phi_tau = model_artm.regularizers['SparsePhi'].tau\n",
    "theta_tau = model_artm.regularizers['SparseTheta'].tau\n",
    "\n",
    "for i in range(10):\n",
    "    model_artm.regularizers['SparsePhi'].tau = (phi_tau + (phi_tau*0.5))\n",
    "    model_artm.regularizers['SparseTheta'].tau = (theta_tau + (theta_tau*0.5))\n",
    "    \n",
    "    model_artm.fit_offline(batch_vectorizer=batch_vectorizer,num_collection_passes=1)\n",
    "    "
   ]
  },
  {
   "cell_type": "code",
   "execution_count": null,
   "metadata": {},
   "outputs": [],
   "source": [
    "# посмотрим на качество\n",
    "print_measures(model_artm)"
   ]
  },
  {
   "cell_type": "markdown",
   "metadata": {},
   "source": [
    "Перплексия должна снижаться. Если график выровнился и больше не меняется - модель сошлась. Обычно перплексия хорошей модели около 200-1000. На таком небольшом количестве данных возможно такого значения достичь не получится."
   ]
  },
  {
   "cell_type": "code",
   "execution_count": 54,
   "metadata": {},
   "outputs": [
    {
     "name": "stdout",
     "output_type": "stream",
     "text": [
      "topic_0: \n",
      "данные\n",
      "диск\n",
      "кеш\n",
      "механизм\n",
      "состояние\n",
      "использование\n",
      "запись\n",
      "являться\n",
      "хранилище\n",
      "изменение\n",
      "---------\n",
      "topic_1: \n",
      "весна\n",
      "смартфон\n",
      "биткоин\n",
      "спектрометр\n",
      "стилус\n",
      "компания\n",
      "хороший\n",
      "очень\n",
      "проблема\n",
      "устройство\n",
      "---------\n",
      "topic_2: \n",
      "человек\n",
      "курс\n",
      "книга\n",
      "лекция\n",
      "слово\n",
      "хороший\n",
      "час\n",
      "сказать\n",
      "чувство\n",
      "вопрос\n",
      "---------\n",
      "topic_3: \n",
      "результат\n",
      "являться\n",
      "подразделение\n",
      "большой\n",
      "теория\n",
      "исследование\n",
      "процесс\n",
      "ес\n",
      "проблема\n",
      "решение\n",
      "---------\n",
      "topic_4: \n",
      "результат\n",
      "задача\n",
      "процесс\n",
      "случай\n",
      "хотя\n",
      "говорить\n",
      "общий\n",
      "мало\n",
      "хороший\n",
      "большой\n",
      "---------\n",
      "topic_5: \n",
      "камера\n",
      "аккумулятор\n",
      "дрон\n",
      "ток\n",
      "датчик\n",
      "мотор\n",
      "батарея\n",
      "напряжение\n",
      "устройство\n",
      "аппарат\n",
      "---------\n",
      "topic_6: \n",
      "пост\n",
      "пользователь\n",
      "ваш\n",
      "хороший\n",
      "любой\n",
      "статья\n",
      "использование\n",
      "хотеть\n",
      "давать\n",
      "проблема\n",
      "---------\n",
      "topic_7: \n",
      "отчет\n",
      "задача\n",
      "база\n",
      "ошибка\n",
      "процесс\n",
      "пользователь\n",
      "запись\n",
      "заказчик\n",
      "данные\n",
      "ответ\n",
      "---------\n",
      "topic_8: \n",
      "доклад\n",
      "конференция\n",
      "рассказывать\n",
      "участник\n",
      "тема\n",
      "выступление\n",
      "мероприятие\n",
      "разработчик\n",
      "презентация\n",
      "спикер\n",
      "---------\n",
      "topic_9: \n",
      "глава\n",
      "велосипед\n",
      "книга\n",
      "слово\n",
      "говорить\n",
      "компьютер\n",
      "именно\n",
      "хотя\n",
      "программа\n",
      "идея\n",
      "---------\n",
      "topic_10: \n",
      "компания\n",
      "доход\n",
      "деньги\n",
      "бизнес\n",
      "сумма\n",
      "рубль\n",
      "закон\n",
      "россия\n",
      "рейтинг\n",
      "счет\n",
      "---------\n",
      "topic_11: \n",
      "хост\n",
      "ВМ\n",
      "хранилище\n",
      "диск\n",
      "виртуальный\n",
      "уровень\n",
      "поддерживать\n",
      "включать\n",
      "настройка\n",
      "технология\n",
      "---------\n",
      "topic_12: \n",
      "сайт\n",
      "блокировка\n",
      "ресурс\n",
      "пользователь\n",
      "информация\n",
      "поиск\n",
      "страница\n",
      "инструмент\n",
      "блокировать\n",
      "контент\n",
      "---------\n",
      "topic_13: \n",
      "день\n",
      "скидка\n",
      "месяц\n",
      "заказ\n",
      "акция\n",
      "заказывать\n",
      "ноябрь\n",
      "оплата\n",
      "декабрь\n",
      "период\n",
      "---------\n",
      "topic_14: \n",
      "объект\n",
      "класс\n",
      "метод\n",
      "компонент\n",
      "тип\n",
      "код\n",
      "функция\n",
      "реализовать\n",
      "реализация\n",
      "создание\n",
      "---------\n",
      "topic_15: \n",
      "калькулятор\n",
      "результат\n",
      "цифра\n",
      "слово\n",
      "шарик\n",
      "число\n",
      "очень\n",
      "компьютер\n",
      "соревнование\n",
      "хороший\n",
      "---------\n",
      "topic_16: \n",
      "проект\n",
      "задача\n",
      "хороший\n",
      "писать\n",
      "разработка\n",
      "разработчик\n",
      "написать\n",
      "очень\n",
      "давать\n",
      "какой-то\n",
      "---------\n",
      "topic_17: \n",
      "продукт\n",
      "решение\n",
      "разработка\n",
      "процесс\n",
      "технология\n",
      "задача\n",
      "решать\n",
      "сервис\n",
      "инструмент\n",
      "человек\n",
      "---------\n",
      "topic_18: \n",
      "пользователь\n",
      "контент\n",
      "информация\n",
      "компания\n",
      "проект\n",
      "проблема\n",
      "являться\n",
      "продукт\n",
      "рынок\n",
      "основной\n",
      "---------\n",
      "topic_19: \n",
      "ноутбук\n",
      "устройство\n",
      "смартфон\n",
      "модель\n",
      "производитель\n",
      "цена\n",
      "экран\n",
      "дисплей\n",
      "гб\n",
      "видеокарта\n",
      "---------\n",
      "topic_20: \n",
      "поддержка\n",
      "задача\n",
      "решение\n",
      "приложение\n",
      "пользователь\n",
      "использование\n",
      "внедрение\n",
      "среда\n",
      "процесс\n",
      "проблема\n",
      "---------\n",
      "topic_21: \n",
      "рисунок\n",
      "уровень\n",
      "поэтому\n",
      "являться\n",
      "случай\n",
      "достаточно\n",
      "очень\n",
      "проект\n",
      "общий\n",
      "хороший\n",
      "---------\n",
      "topic_22: \n",
      "человек\n",
      "звук\n",
      "колонка\n",
      "акустика\n",
      "звучание\n",
      "прогрев\n",
      "капча\n",
      "аппаратура\n",
      "комната\n",
      "помещение\n",
      "---------\n",
      "topic_23: \n",
      "тз\n",
      "очень\n",
      "знать\n",
      "решать\n",
      "сказать\n",
      "именно\n",
      "понимать\n",
      "вопрос\n",
      "оказываться\n",
      "хотеть\n",
      "---------\n",
      "topic_24: \n",
      "операция\n",
      "человек\n",
      "говорить\n",
      "разрез\n",
      "хирург\n",
      "лазер\n",
      "хороший\n",
      "глаз\n",
      "проблема\n",
      "очень\n",
      "---------\n",
      "topic_25: \n",
      "маска\n",
      "населенный_пункт\n",
      "уровень\n",
      "район\n",
      "часть\n",
      "нужный\n",
      "группа\n",
      "статья\n",
      "любой\n",
      "территория\n",
      "---------\n",
      "topic_26: \n",
      "большой\n",
      "человек\n",
      "проблема\n",
      "очень\n",
      "говорить\n",
      "часть\n",
      "хороший\n",
      "пока\n",
      "хотя\n",
      "именно\n",
      "---------\n",
      "topic_27: \n",
      "плата\n",
      "температура\n",
      "схема\n",
      "светодиод\n",
      "микросхема\n",
      "корпус\n",
      "клавиатура\n",
      "питание\n",
      "микроконтроллер\n",
      "очень\n",
      "---------\n",
      "topic_28: \n",
      "человек\n",
      "искусственный_интеллект\n",
      "знать\n",
      "ия\n",
      "решение\n",
      "проблема\n",
      "хороший\n",
      "считать\n",
      "мир\n",
      "решать\n",
      "---------\n",
      "topic_29: \n",
      "программист\n",
      "знание\n",
      "понимать\n",
      "программирование\n",
      "язык\n",
      "задача\n",
      "говорить\n",
      "очень\n",
      "решение\n",
      "человек\n",
      "---------\n",
      "topic_30: \n",
      "здание\n",
      "фигура\n",
      "башня\n",
      "мир\n",
      "этаж\n",
      "доска\n",
      "небоскреб\n",
      "ход\n",
      "стена\n",
      "строительство\n",
      "---------\n",
      "topic_31: \n",
      "хороший\n",
      "человек\n",
      "слово\n",
      "решать\n",
      "что-то\n",
      "понимать\n",
      "очень\n",
      "поэтому\n",
      "именно\n",
      "давать\n",
      "---------\n",
      "topic_32: \n",
      "смартфон\n",
      "технология\n",
      "рука\n",
      "сканер\n",
      "часы\n",
      "палец\n",
      "отпечаток_палец\n",
      "устройство\n",
      "очень\n",
      "хотя\n",
      "---------\n",
      "topic_33: \n",
      "энергия\n",
      "двигатель\n",
      "станция\n",
      "проект\n",
      "производство\n",
      "компания\n",
      "источник\n",
      "технология\n",
      "мощность\n",
      "большой\n",
      "---------\n",
      "topic_34: \n",
      "задача\n",
      "проблема\n",
      "решать\n",
      "поэтому\n",
      "проект\n",
      "очень\n",
      "программа\n",
      "пользователь\n",
      "являться\n",
      "писать\n",
      "---------\n",
      "topic_35: \n",
      "файл\n",
      "находить\n",
      "директория\n",
      "команда\n",
      "флаг\n",
      "запускать\n",
      "следующий\n",
      "проект\n",
      "добавлять\n",
      "процесс\n",
      "---------\n",
      "topic_36: \n",
      "знать\n",
      "человек\n",
      "какой-то\n",
      "идея\n",
      "что-то\n",
      "очень\n",
      "говорить\n",
      "понимать\n",
      "вообще\n",
      "хороший\n",
      "---------\n",
      "topic_37: \n",
      "транзакция\n",
      "блок\n",
      "шаг\n",
      "чтение\n",
      "версия\n",
      "майнер\n",
      "выход\n",
      "второй\n",
      "майнинг\n",
      "случай\n",
      "---------\n",
      "topic_38: \n",
      "человек\n",
      "ваш\n",
      "проблема\n",
      "хотеть\n",
      "компания\n",
      "интернет\n",
      "знать\n",
      "информация\n",
      "видеть\n",
      "давать\n",
      "---------\n",
      "topic_39: \n",
      "звук\n",
      "технология\n",
      "усилитель\n",
      "большой\n",
      "очень\n",
      "хороший\n",
      "ламповый\n",
      "современный\n",
      "модель\n",
      "основной\n",
      "---------\n",
      "topic_40: \n",
      "тип\n",
      "функция\n",
      "значение\n",
      "свойство\n",
      "ошибка\n",
      "объект\n",
      "код\n",
      "реализация\n",
      "оператор\n",
      "переменный\n",
      "---------\n",
      "topic_41: \n",
      "подпись\n",
      "являться\n",
      "открытый_ключ\n",
      "документ\n",
      "агент\n",
      "решение\n",
      "открывать_ключ\n",
      "простой\n",
      "использование\n",
      "контрагент\n",
      "---------\n",
      "topic_42: \n",
      "проект\n",
      "результат\n",
      "команда\n",
      "случай\n",
      "оказываться\n",
      "основной\n",
      "уровень\n",
      "большой\n",
      "последний\n",
      "часто\n",
      "---------\n",
      "topic_43: \n",
      "задача\n",
      "решение\n",
      "давать\n",
      "пример\n",
      "хороший\n",
      "очень\n",
      "понимать\n",
      "результат\n",
      "нужный\n",
      "разный\n",
      "---------\n",
      "topic_44: \n",
      "фильм\n",
      "форум\n",
      "видео\n",
      "приставка\n",
      "очень\n",
      "находить\n",
      "что-то\n",
      "интересный\n",
      "давать\n",
      "большой\n",
      "---------\n",
      "topic_45: \n",
      "страница\n",
      "скрипт\n",
      "ключ\n",
      "файл\n",
      "настройка\n",
      "указывать\n",
      "ссылка\n",
      "параметр\n",
      "необходимо\n",
      "строка\n",
      "---------\n",
      "topic_46: \n",
      "обучение\n",
      "сеть\n",
      "признак\n",
      "нейронный_сеть\n",
      "машинный_обучение\n",
      "данные\n",
      "слой\n",
      "обучать\n",
      "пример\n",
      "информация\n",
      "---------\n",
      "topic_47: \n",
      "очень\n",
      "хороший\n",
      "именно\n",
      "человек\n",
      "оказываться\n",
      "статья\n",
      "давать\n",
      "некоторый\n",
      "большой\n",
      "интуиция\n",
      "---------\n",
      "topic_48: \n",
      "метод\n",
      "случай\n",
      "поле\n",
      "тип\n",
      "стрелка\n",
      "форма\n",
      "изменение\n",
      "давать\n",
      "способ\n",
      "часть\n",
      "---------\n",
      "topic_49: \n",
      "программа\n",
      "ошибка\n",
      "проект\n",
      "проблема\n",
      "функция\n",
      "написать\n",
      "решение\n",
      "некоторый\n",
      "пример\n",
      "случай\n",
      "---------\n"
     ]
    }
   ],
   "source": [
    "# посмотрим на темы\n",
    "for topic_name in model_artm.topic_names[:50]:\n",
    "    print(topic_name + ': ')\n",
    "    try:\n",
    "        for x in model_artm.score_tracker['TopTokensScore_1'].last_tokens[topic_name]:\n",
    "            print(x)\n",
    "        print('---------')\n",
    "    \n",
    "    except KeyError: # можно перекрутить параметры и некоторые темы окажутся пустыми\n",
    "        continue"
   ]
  },
  {
   "cell_type": "code",
   "execution_count": null,
   "metadata": {},
   "outputs": [],
   "source": []
  },
  {
   "cell_type": "markdown",
   "metadata": {},
   "source": [
    "## Домашнее задание"
   ]
  },
  {
   "cell_type": "markdown",
   "metadata": {},
   "source": [
    "Основаная задача - **построить хорошую тематическую модель с интерпретируемыми топиками**.\n",
    "\n",
    "1) сделайте нормализацию (если pymorphy2 работает долго используйте mystem или попробуйте установить быструю версию - `pip install pymorphy2[fast]`, можно использовать какой-то другой токенизатор) \n",
    "\n",
    "2) добавьте нграммы (в тетрадке есть закомменченая ячейка с Phrases); \n",
    "\n",
    "3) сохраните тексты .vw формате;\n",
    "\n",
    "4) сделайте хороший словарь (отфильтруйте слишком частотные и редкие слова, попробуйте удалить стоп-слова, сохраните словарь и посмотрите на него, вдруг что-то плохое сразу будет заметно); \n",
    "\n",
    "5) постройте несколько ARTM моделей (переберите количество тем, поменяйте значения tau у регуляризаторов), если получаются плохие темы, поработайте дополнительно над предобработкой и словарем; \n",
    "\n",
    "6) для самой хорошей модели в отдельной ячейке напечатайте 3 хороших (на ваш вкус) темы\n",
    "\n",
    "7) в другой ячейки нарисуйте график обучения этой модели \n",
    "\n",
    "8) в третьей ячейки опишите какие параметры (количество тем, регуляризаторы, их tau) вы использовали и как обучали (например, после скольки проходов добавили регуляризатор разрежнивания тем (Phi), добавляли ли разреженность документам (Theta) и когда, как повышали значения, сколько итерации модель продожала улучшаться (снижалась перплексия, росли другие метрики);\n",
    "\n",
    "Сохраните тетрадку с экспериментами и положите её на гитхаб, ссылку на неё укажите в форме.\n",
    "\n",
    "**Оцениваться будут главным образом пункты 6, 7 и 8. (3, 1, 4 баллов соответственно). Чтобы заработать остальные 2 балла, нужно хотя бы немного изменить мой код на промежуточных этапах (добавить что-то, указать другие параметры и т.д). **"
   ]
  }
 ],
 "metadata": {
  "anaconda-cloud": {},
  "kernelspec": {
   "display_name": "Python 3",
   "language": "python",
   "name": "python3"
  },
  "language_info": {
   "codemirror_mode": {
    "name": "ipython",
    "version": 3
   },
   "file_extension": ".py",
   "mimetype": "text/x-python",
   "name": "python",
   "nbconvert_exporter": "python",
   "pygments_lexer": "ipython3",
   "version": "3.6.6"
  }
 },
 "nbformat": 4,
 "nbformat_minor": 1
}

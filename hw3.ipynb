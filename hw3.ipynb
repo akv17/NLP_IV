{
 "cells": [
  {
   "cell_type": "code",
   "execution_count": 68,
   "metadata": {},
   "outputs": [],
   "source": [
    "import os\n",
    "import pandas as pd\n",
    "from string import punctuation as punct\n",
    "\n",
    "import numpy as np\n",
    "from lxml import html\n",
    "from sklearn.feature_extraction.text import TfidfVectorizer, CountVectorizer\n",
    "from sklearn.decomposition import TruncatedSVD, NMF\n",
    "from sklearn.metrics.pairwise import cosine_similarity"
   ]
  },
  {
   "cell_type": "code",
   "execution_count": 30,
   "metadata": {},
   "outputs": [],
   "source": [
    "punct += '«»–'"
   ]
  },
  {
   "cell_type": "code",
   "execution_count": 15,
   "metadata": {},
   "outputs": [],
   "source": [
    "df = pd.read_json('ng_0.jsonlines', lines=True)"
   ]
  },
  {
   "cell_type": "code",
   "execution_count": 42,
   "metadata": {},
   "outputs": [],
   "source": [
    "corpus_xml = html.fromstring(open('paraphrases.xml', 'rb').read())\n",
    "texts_1 = []\n",
    "texts_2 = []\n",
    "classes = []\n",
    "\n",
    "for p in corpus_xml.xpath('//paraphrase'):\n",
    "    texts_1.append(p.xpath('./value[@name=\"text_1\"]/text()')[0])\n",
    "    texts_2.append(p.xpath('./value[@name=\"text_2\"]/text()')[0])\n",
    "    classes.append(p.xpath('./value[@name=\"class\"]/text()')[0])\n",
    "    \n",
    "PARA = pd.DataFrame({'text_1':texts_1, 'text_2':texts_2, 'label':classes})"
   ]
  },
  {
   "cell_type": "code",
   "execution_count": 46,
   "metadata": {},
   "outputs": [],
   "source": [
    "PARA.label = PARA.label.map({'0': 0, '1': 1, '-1': 2})"
   ]
  },
  {
   "cell_type": "code",
   "execution_count": 60,
   "metadata": {},
   "outputs": [],
   "source": [
    "PARA['text_norm1'] = PARA.text_1.apply(normalize)\n",
    "PARA['text_norm2'] = PARA.text_2.apply(normalize)"
   ]
  },
  {
   "cell_type": "code",
   "execution_count": null,
   "metadata": {},
   "outputs": [],
   "source": []
  },
  {
   "cell_type": "code",
   "execution_count": 58,
   "metadata": {},
   "outputs": [],
   "source": [
    "def normalize(x):\n",
    "    return x.lower().strip(punct)"
   ]
  },
  {
   "cell_type": "code",
   "execution_count": 17,
   "metadata": {},
   "outputs": [],
   "source": [
    "DATA = list(df.content.values)"
   ]
  },
  {
   "cell_type": "code",
   "execution_count": 31,
   "metadata": {},
   "outputs": [],
   "source": [
    "DATA_NORM = [' '.join([normalize(w) for w in x.split() if w.strip(punct)]) for x in DATA]"
   ]
  },
  {
   "cell_type": "code",
   "execution_count": 35,
   "metadata": {},
   "outputs": [],
   "source": [
    "CVECT = CountVectorizer()\n",
    "TFIDF = TfidfVectorizer()"
   ]
  },
  {
   "cell_type": "code",
   "execution_count": 37,
   "metadata": {},
   "outputs": [],
   "source": [
    "CVECT = CVECT.fit(DATA_NORM)\n",
    "TFIDF = TFIDF.fit(DATA_NORM)"
   ]
  },
  {
   "cell_type": "code",
   "execution_count": 34,
   "metadata": {},
   "outputs": [],
   "source": [
    "def fit_models(data, vectorizer, models):\n",
    "    MODELS = dict()\n",
    "    \n",
    "    data_vectorized = vectorizer.transform(data)\n",
    "    data_split = [x.split() for x in data]\n",
    "    \n",
    "    for model in models:\n",
    "        if isinstance(model, TruncatedSVD):\n",
    "            model.fit(data_vectorized)\n",
    "            MODELS['SVD'] = model\n",
    "        \n",
    "        elif isinstance(model, NMF):\n",
    "            model.fit(data_vectorized)\n",
    "            MODELS['NMF'] = model\n",
    "    \n",
    "    return MODELS\n",
    "\n"
   ]
  },
  {
   "cell_type": "code",
   "execution_count": 39,
   "metadata": {},
   "outputs": [
    {
     "name": "stdout",
     "output_type": "stream",
     "text": [
      "CPU times: user 5.97 s, sys: 219 ms, total: 6.19 s\n",
      "Wall time: 3.94 s\n"
     ]
    }
   ],
   "source": [
    "%%time\n",
    "MODELS = fit_models(DATA_NORM, TFIDF, [TruncatedSVD(2), NMF(2)])"
   ]
  },
  {
   "cell_type": "code",
   "execution_count": 82,
   "metadata": {},
   "outputs": [],
   "source": [
    "def cosine(x, y):\n",
    "    return np.dot(x, y) / ( np.sqrt(np.sum(x**2)) * np.sqrt(np.sum(y**2)) )"
   ]
  },
  {
   "cell_type": "code",
   "execution_count": 92,
   "metadata": {},
   "outputs": [],
   "source": [
    "def compute_features(para, model, vectorizer=None, text_norm=True):\n",
    "    TEXT1 = para.text_norm1 if text_norm else para.text_1\n",
    "    TEXT2 = para.text_norm2 if text_norm else para.text_2\n",
    "    \n",
    "    if vectorizer is not None:\n",
    "        V1 = vectorizer.transform(TEXT1)\n",
    "        V2 = vectorizer.transform(TEXT2)\n",
    "    \n",
    "    else:\n",
    "        TEXT1_SPLIT = [x.split() for x in TEXT1]\n",
    "        TEXT2_SPLIT = [x.split() for x in TEXT2]\n",
    "    \n",
    "    if isinstance(model, TruncatedSVD):\n",
    "        v1 = model.transform(V1)\n",
    "        v2 = model.transform(V2)\n",
    "        \n",
    "        #return [cosine(v1[i], v2[i]) for i in range(v1.shape[0])]\n",
    "\n",
    "    elif isinstance(model, NMF):\n",
    "        pass\n",
    "    \n",
    "    return np.diag(cosine_similarity(v1, v2))"
   ]
  },
  {
   "cell_type": "code",
   "execution_count": 93,
   "metadata": {},
   "outputs": [
    {
     "name": "stdout",
     "output_type": "stream",
     "text": [
      "CPU times: user 641 ms, sys: 719 ms, total: 1.36 s\n",
      "Wall time: 1.29 s\n"
     ]
    }
   ],
   "source": [
    "%%time\n",
    "X = compute_features(PARA, MODELS['SVD'], CVECT)"
   ]
  },
  {
   "cell_type": "code",
   "execution_count": null,
   "metadata": {},
   "outputs": [],
   "source": []
  },
  {
   "cell_type": "code",
   "execution_count": null,
   "metadata": {},
   "outputs": [],
   "source": []
  },
  {
   "cell_type": "code",
   "execution_count": null,
   "metadata": {},
   "outputs": [],
   "source": []
  }
 ],
 "metadata": {
  "kernelspec": {
   "display_name": "Python 3",
   "language": "python",
   "name": "python3"
  },
  "language_info": {
   "codemirror_mode": {
    "name": "ipython",
    "version": 3
   },
   "file_extension": ".py",
   "mimetype": "text/x-python",
   "name": "python",
   "nbconvert_exporter": "python",
   "pygments_lexer": "ipython3",
   "version": "3.6.5"
  }
 },
 "nbformat": 4,
 "nbformat_minor": 2
}

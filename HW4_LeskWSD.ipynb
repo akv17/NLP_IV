{
 "cells": [
  {
   "cell_type": "code",
   "execution_count": 1,
   "metadata": {},
   "outputs": [],
   "source": [
    "from string import punctuation as PUNCT\n",
    "\n",
    "from nltk.tokenize import word_tokenize, sent_tokenize\n",
    "from nltk.corpus import wordnet as wn\n",
    "from nltk.corpus import stopwords\n",
    "from nltk.stem.snowball import SnowballStemmer"
   ]
  },
  {
   "cell_type": "code",
   "execution_count": 2,
   "metadata": {},
   "outputs": [],
   "source": [
    "STOPWORDS = set(stopwords.words('english'))\n",
    "stemmer = SnowballStemmer('english')"
   ]
  },
  {
   "cell_type": "code",
   "execution_count": null,
   "metadata": {},
   "outputs": [],
   "source": []
  },
  {
   "cell_type": "code",
   "execution_count": null,
   "metadata": {},
   "outputs": [],
   "source": []
  },
  {
   "cell_type": "markdown",
   "metadata": {},
   "source": [
    "Реализация алгоритма.  \n",
    "Я также добавил возможность удаления стоп-слов из определений дизамбигуируемого слова и стемминга как определений, так и слов контекста.  \n",
    "Возвращается кортеж *(индекс синсета с лучшим определением, длина пересечения, содержание лучшего определения)*, если `return_def=True`, иначе возвращается только индекс синсета с лучшим определением.  \n",
    "Ф-ия `apply_lesk` позволяет дизамбигуировать все слова во входной строке."
   ]
  },
  {
   "cell_type": "code",
   "execution_count": 12,
   "metadata": {},
   "outputs": [],
   "source": [
    "def lesk(target, context, remove_stopwords=True, stemming=True, return_def=True):\n",
    "    \"\"\"\n",
    "    target: <str>\n",
    "    context: List[str]\n",
    "    remove_stopwords: bool: remove stopwords in definitions\n",
    "    stemming: bool: stem words in definitions\n",
    "    \n",
    "    return: idx of the best synset if `return_def=False` else (idx, overlap, definition)\n",
    "    \"\"\"\n",
    "\n",
    "    target_synsets = [_synset for _synset in wn.synsets(target)]\n",
    "    target_defs = [set(_synset.definition().lower().split()) for _synset in target_synsets]\n",
    "    context = [w.lower() for w in context]\n",
    "    \n",
    "    if remove_stopwords:\n",
    "        target_defs = [x.difference(STOPWORDS) for x in target_defs]\n",
    "    \n",
    "    if stemming:\n",
    "        target_defs = [set([stemmer.stem(_x) for _x in x]) for x in target_defs]\n",
    "        context = [stemmer.stem(w) for w in context]\n",
    "    \n",
    "    sense_scores = {i: (len(_def.intersection(context)), target_synsets[i])\n",
    "                    for i, _def in enumerate(target_defs)\n",
    "    }\n",
    "    \n",
    "    if not sense_scores:\n",
    "        sense_scores = {-1: (0, None)}\n",
    "    \n",
    "    best_sense = sorted(sense_scores, key=lambda x: sense_scores.get(x)[0], reverse=True)[0]\n",
    "    \n",
    "    return (best_sense, *sense_scores[best_sense]) if return_def else best_sense\n",
    "\n",
    "\n",
    "def get_context(words, window=3):\n",
    "    for i, word in enumerate(words):\n",
    "        yield (word, words[max(0, i-window):i] + words[i+1:i+1+window])\n",
    "\n",
    "\n",
    "def apply_lesk(text, window=3, remove_stopwords=True, lesk_params={}):\n",
    "    \"\"\"\n",
    "    return: (word, best_sense_idx, overlap, definition)\n",
    "    \"\"\"\n",
    "    \n",
    "    text = [w.lower() for w in word_tokenize(text) if w.strip(PUNCT)]\n",
    "    text = [w for w in text if w not in STOPWORDS] if remove_stopwords else text\n",
    "    \n",
    "    return [(word, *lesk(word, context, **lesk_params)) for word, context in get_context(text, window)]\n",
    " "
   ]
  },
  {
   "cell_type": "markdown",
   "metadata": {},
   "source": [
    "Проверим алгоритм на примере"
   ]
  },
  {
   "cell_type": "code",
   "execution_count": 13,
   "metadata": {},
   "outputs": [],
   "source": [
    "sent = 'I went to the bank to deposit money.'"
   ]
  },
  {
   "cell_type": "code",
   "execution_count": 17,
   "metadata": {},
   "outputs": [
    {
     "data": {
      "text/plain": [
       "(1, 2, Synset('depository_financial_institution.n.01'))"
      ]
     },
     "execution_count": 17,
     "metadata": {},
     "output_type": "execute_result"
    }
   ],
   "source": [
    "lesk('bank', ['went', 'money', 'deposit'])"
   ]
  },
  {
   "cell_type": "markdown",
   "metadata": {},
   "source": [
    "Проверим на предложении"
   ]
  },
  {
   "cell_type": "code",
   "execution_count": 15,
   "metadata": {},
   "outputs": [
    {
     "data": {
      "text/plain": [
       "[('went', 0, 0, Synset('travel.v.01')),\n",
       " ('bank', 1, 2, Synset('depository_financial_institution.n.01')),\n",
       " ('deposit', 3, 2, Synset('deposit.n.04')),\n",
       " ('money', 2, 1, Synset('money.n.03'))]"
      ]
     },
     "execution_count": 15,
     "metadata": {},
     "output_type": "execute_result"
    }
   ],
   "source": [
    "apply_lesk(sent, remove_stopwords=True)"
   ]
  },
  {
   "cell_type": "markdown",
   "metadata": {},
   "source": [
    "Весь ввод на вывод"
   ]
  },
  {
   "cell_type": "code",
   "execution_count": 16,
   "metadata": {},
   "outputs": [
    {
     "data": {
      "text/plain": [
       "[('i', 0, 0, Synset('iodine.n.01')),\n",
       " ('went', 0, 0, Synset('travel.v.01')),\n",
       " ('to', -1, 0, None),\n",
       " ('the', -1, 0, None),\n",
       " ('bank', 1, 2, Synset('depository_financial_institution.n.01')),\n",
       " ('to', -1, 0, None),\n",
       " ('deposit', 3, 2, Synset('deposit.n.04')),\n",
       " ('money', 2, 1, Synset('money.n.03'))]"
      ]
     },
     "execution_count": 16,
     "metadata": {},
     "output_type": "execute_result"
    }
   ],
   "source": [
    "apply_lesk(sent, remove_stopwords=False)"
   ]
  },
  {
   "cell_type": "markdown",
   "metadata": {},
   "source": [
    "Выдача вида `(-1, 0, None)` означает, что в WordNet нет синсетов для данного слова"
   ]
  },
  {
   "cell_type": "code",
   "execution_count": null,
   "metadata": {},
   "outputs": [],
   "source": []
  },
  {
   "cell_type": "code",
   "execution_count": null,
   "metadata": {},
   "outputs": [],
   "source": []
  }
 ],
 "metadata": {
  "kernelspec": {
   "display_name": "Python 3",
   "language": "python",
   "name": "python3"
  },
  "language_info": {
   "codemirror_mode": {
    "name": "ipython",
    "version": 3
   },
   "file_extension": ".py",
   "mimetype": "text/x-python",
   "name": "python",
   "nbconvert_exporter": "python",
   "pygments_lexer": "ipython3",
   "version": "3.6.6"
  }
 },
 "nbformat": 4,
 "nbformat_minor": 2
}
